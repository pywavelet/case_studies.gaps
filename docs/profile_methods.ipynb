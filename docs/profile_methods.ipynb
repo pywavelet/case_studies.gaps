{
 "cells": [
  {
   "metadata": {},
   "cell_type": "markdown",
   "source": "# Profile the two gap methods",
   "id": "a35ca2c41a0a76a4"
  },
  {
   "metadata": {},
   "cell_type": "code",
   "outputs": [],
   "execution_count": null,
   "source": "",
   "id": "9e4e4adfaf7dc08a"
  },
  {
   "metadata": {
    "collapsed": true
   },
   "cell_type": "code",
   "outputs": [],
   "execution_count": null,
   "source": [
    "from curses.textpad import rectangle\n",
    "\n",
    "from gap_study_utils.analysis_data import AnalysisData\n",
    "from gap_study_utils.gaps.gap_type import GapType\n",
    "import numpy as np\n",
    "import os\n",
    "from gap_study_utils.analysis_data import AnalysisData, get_suggested_tmax\n",
    "from gap_study_utils.utils.signal_utils import waveform\n",
    "from gap_study_utils.gaps.gap_funcs import generate_gap_ranges\n",
    "from gap_study_utils.gaps import GapType\n",
    "from tqdm.auto import tqdm\n",
    "\n",
    "\n",
    "import numpy as np\n",
    "\n",
    "\n",
    "\n",
    "\n",
    "\n",
    "LN_A = np.log(1e-21)\n",
    "LN_F = np.log(0.005)\n",
    "LN_FDOT = np.log(1e-9)\n",
    "TRUE = [LN_A, LN_F, LN_FDOT]\n",
    "\n",
    "HOURS = 60 * 60\n",
    "DAYS = 24 * HOURS\n",
    "\n",
    "np.random.seed(0)\n",
    "dt = 10\n",
    "\n",
    "\n",
    "def collect_runtimes(ndays:int):\n",
    "    tmax = get_suggested_tmax(DAYS * ndays)\n",
    "    gap_ranges = generate_gap_ranges(tmax, gap_period=DAYS * 14, gap_duration=HOURS * 7)\n",
    "    kwgs = dict(\n",
    "        data_kwargs=dict(dt=dt, noise=False, tmax=tmax),\n",
    "        gap_kwargs=dict(type=GapType.RECTANGULAR_WINDOW, gap_ranges=gap_ranges),\n",
    "        waveform_generator=waveform,\n",
    "        waveform_parameters=TRUE,\n",
    "    );\n",
    "    \n",
    "    kwgs['gap_kwargs']['type'] = GapType.RECTANGULAR_WINDOW\n",
    "    rectangle_time = %timeit -o AnalysisData(**kwgs)\n",
    "    \n",
    "    kwgs['gap_kwargs']['type'] = GapType.STITCH\n",
    "    stitch_time = %timeit -o AnalysisData(**kwgs)\n",
    "    return dict(\n",
    "        days=ndays,\n",
    "        rectangle_avg=rectangle_time.average,\n",
    "        rectangle_stdev=rectangle_time.stdev,\n",
    "        stitch_avg=stitch_time.average,\n",
    "        stitch_stdev=stitch_time.stdev,\n",
    "    )\n"
   ],
   "id": "initial_id"
  },
  {
   "metadata": {},
   "cell_type": "code",
   "source": [
    "%%capture\n",
    "\n",
    "\n",
    "days = [16, 32, 64, 128]\n",
    "runtime_data = [collect_runtimes(day) for day in tqdm(days)]\n"
   ],
   "id": "27f81452282abdba",
   "outputs": [],
   "execution_count": null
  },
  {
   "metadata": {},
   "cell_type": "code",
   "source": [
    "import matplotlib.pyplot as plt\n",
    "import pandas as pd\n",
    "import numpy as np\n",
    "\n",
    "data = pd.DataFrame(runtime_data)\n",
    "\n",
    "fig, ax = plt.subplots(figsize=(4, 2.5))\n",
    "ax.set_xlabel('Number of days')\n",
    "ax.set_ylabel('Runtime (s)')\n",
    "\n",
    "# Fit the curves\n",
    "degree = 3  # You can change the degree of the polynomial\n",
    "p_rect = np.polyfit(data['days'], data['rectangle_avg'], degree)\n",
    "p_stitch = np.polyfit(data['days'], data['stitch_avg'], degree)\n",
    "\n",
    "# Extrapolate the polynomial models\n",
    "days_fit = np.linspace(data['days'].min(), 1000, 100)  # Extend the range\n",
    "rect_fit = np.polyval(p_rect, days_fit)\n",
    "stitch_fit = np.polyval(p_stitch, days_fit)\n",
    "\n",
    "\n",
    "# Plot original data with error bars\n",
    "ax.errorbar(data['days'], data['rectangle_avg'], yerr=data['rectangle_stdev'], fmt='o', color='tab:blue', label='Rectangle')\n",
    "# ax.plot(days_fit, rect_fit, label=f'Rectangle (degree {degree})', color='tab:blue')\n",
    "\n",
    "ax.errorbar(data['days'], data['stitch_avg'], yerr=data['stitch_stdev'], fmt='o', color='tab:orange')\n",
    "ax.loglog(days_fit, stitch_fit, label=f'Stitch', color='tab:orange')\n",
    "\n",
    "\n",
    "\n",
    "ax.legend()\n",
    "plt.savefig('figures/profile_methods.png', dpi=300, bbox_inches='tight')"
   ],
   "id": "8308e609c516bd40",
   "outputs": [],
   "execution_count": null
  },
  {
   "metadata": {},
   "cell_type": "markdown",
   "source": "![](figures/profile_methods.png)",
   "id": "f78e1899c1d7f28"
  },
  {
   "metadata": {},
   "cell_type": "code",
   "source": "",
   "id": "a713acb1139532c2",
   "outputs": [],
   "execution_count": null
  }
 ],
 "metadata": {
  "kernelspec": {
   "display_name": "Python 3",
   "language": "python",
   "name": "python3"
  },
  "language_info": {
   "codemirror_mode": {
    "name": "ipython",
    "version": 2
   },
   "file_extension": ".py",
   "mimetype": "text/x-python",
   "name": "python",
   "nbconvert_exporter": "python",
   "pygments_lexer": "ipython2",
   "version": "2.7.6"
  }
 },
 "nbformat": 4,
 "nbformat_minor": 5
}
