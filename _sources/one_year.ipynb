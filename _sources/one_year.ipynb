{
 "cells": [
  {
   "cell_type": "markdown",
   "id": "137daddfc6c37e72",
   "metadata": {},
   "source": [
    "# One year of LISA data "
   ]
  },
  {
   "cell_type": "code",
   "id": "initial_id",
   "metadata": {
    "collapsed": true,
    "ExecuteTime": {
     "end_time": "2025-02-03T07:30:21.810307Z",
     "start_time": "2025-02-03T07:30:21.767753Z"
    }
   },
   "source": [
    "%load_ext autoreload\n",
    "%autoreload 2\n",
    "\n",
    "import numpy as np\n",
    "import os\n",
    "from gap_study_utils.analysis_data import AnalysisData, get_suggested_tmax\n",
    "from gap_study_utils.utils.signal_utils import waveform\n",
    "from gap_study_utils.gaps.gap_funcs import generate_gap_ranges\n",
    "from gap_study_utils.gaps import GapType\n",
    "from gap_study_utils.mcmc_runner import run_mcmc\n",
    "import matplotlib.pyplot as plt\n",
    "\n",
    "np.random.seed(0)\n",
    "\n",
    "LN_A = np.log(1e-21)\n",
    "LN_F = np.log(0.005)\n",
    "LN_FDOT = np.log(1e-9)\n",
    "\n",
    "HOURS = 60 * 60\n",
    "DAYS = 24 * HOURS\n",
    "\n",
    "np.random.seed(0)\n",
    "dt = 10\n",
    "tmax = get_suggested_tmax(DAYS * 365.4)\n",
    "\n",
    "outdir = f\"outdir_1year\"\n",
    "os.makedirs(outdir, exist_ok=True)\n",
    "\n",
    "gap_ranges = generate_gap_ranges(tmax, gap_period=DAYS * 14, gap_duration=HOURS * 7)\n",
    "print(\"Number of gaps: \", len(gap_ranges))\n"
   ],
   "outputs": [
    {
     "name": "stdout",
     "output_type": "stream",
     "text": [
      "The autoreload extension is already loaded. To reload it, use:\n",
      "  %reload_ext autoreload\n",
      "Number of gaps:  17\n"
     ]
    }
   ],
   "execution_count": 20
  },
  {
   "cell_type": "code",
   "id": "3d1e005e28ffd938",
   "metadata": {
    "ExecuteTime": {
     "end_time": "2025-02-03T07:30:26.056381Z",
     "start_time": "2025-02-03T07:30:23.573485Z"
    }
   },
   "source": [
    "data = AnalysisData(\n",
    "    data_kwargs=dict(dt=dt, noise=False, tmax=tmax),\n",
    "    gap_kwargs=dict(type=GapType.RECTANGULAR_WINDOW, gap_ranges=gap_ranges),\n",
    "    waveform_generator=waveform,\n",
    "    waveform_parameters=[LN_A, LN_F, LN_FDOT],\n",
    ");"
   ],
   "outputs": [
    {
     "data": {
      "text/plain": [
       "\u001B[2;36m[20:30:23]\u001B[0m\u001B[2;36m \u001B[0m\u001B[34mINFO    \u001B[0m Initalizing GapWindow with RECTANGULAR_WINDOW gaps \u001B[1m(\u001B[0m\u001B[1;36m17\u001B[0m gaps\u001B[1m)\u001B[0m.              \u001B]8;id=498817;file:///Users/avaj0001/Documents/projects/pywavelet/case_studies.gaps/src/gap_study_utils/analysis_data.py\u001B\\\u001B[2manalysis_data.py\u001B[0m\u001B]8;;\u001B\\\u001B[2m:\u001B[0m\u001B]8;id=492644;file:///Users/avaj0001/Documents/projects/pywavelet/case_studies.gaps/src/gap_study_utils/analysis_data.py#129\u001B\\\u001B[2m129\u001B[0m\u001B]8;;\u001B\\\n"
      ],
      "text/html": [
       "<pre style=\"white-space:pre;overflow-x:auto;line-height:normal;font-family:Menlo,'DejaVu Sans Mono',consolas,'Courier New',monospace\"><span style=\"color: #7fbfbf; text-decoration-color: #7fbfbf\">[20:30:23] </span><span style=\"color: #000080; text-decoration-color: #000080\">INFO    </span> Initalizing GapWindow with RECTANGULAR_WINDOW gaps <span style=\"font-weight: bold\">(</span><span style=\"color: #008080; text-decoration-color: #008080; font-weight: bold\">17</span> gaps<span style=\"font-weight: bold\">)</span>.              <a href=\"file:///Users/avaj0001/Documents/projects/pywavelet/case_studies.gaps/src/gap_study_utils/analysis_data.py\" target=\"_blank\"><span style=\"color: #7f7f7f; text-decoration-color: #7f7f7f\">analysis_data.py</span></a><span style=\"color: #7f7f7f; text-decoration-color: #7f7f7f\">:</span><a href=\"file:///Users/avaj0001/Documents/projects/pywavelet/case_studies.gaps/src/gap_study_utils/analysis_data.py#129\" target=\"_blank\"><span style=\"color: #7f7f7f; text-decoration-color: #7f7f7f\">129</span></a>\n",
       "</pre>\n"
      ]
     },
     "metadata": {},
     "output_type": "display_data"
    },
    {
     "data": {
      "text/plain": [
       "\u001B[2;36m[20:30:24]\u001B[0m\u001B[2;36m \u001B[0m\u001B[34mINFO    \u001B[0m AnalysisData initialized.                                                   \u001B]8;id=745965;file:///Users/avaj0001/Documents/projects/pywavelet/case_studies.gaps/src/gap_study_utils/analysis_data.py\u001B\\\u001B[2manalysis_data.py\u001B[0m\u001B]8;;\u001B\\\u001B[2m:\u001B[0m\u001B]8;id=606572;file:///Users/avaj0001/Documents/projects/pywavelet/case_studies.gaps/src/gap_study_utils/analysis_data.py#81\u001B\\\u001B[2m81\u001B[0m\u001B]8;;\u001B\\\n"
      ],
      "text/html": [
       "<pre style=\"white-space:pre;overflow-x:auto;line-height:normal;font-family:Menlo,'DejaVu Sans Mono',consolas,'Courier New',monospace\"><span style=\"color: #7fbfbf; text-decoration-color: #7fbfbf\">[20:30:24] </span><span style=\"color: #000080; text-decoration-color: #000080\">INFO    </span> AnalysisData initialized.                                                   <a href=\"file:///Users/avaj0001/Documents/projects/pywavelet/case_studies.gaps/src/gap_study_utils/analysis_data.py\" target=\"_blank\"><span style=\"color: #7f7f7f; text-decoration-color: #7f7f7f\">analysis_data.py</span></a><span style=\"color: #7f7f7f; text-decoration-color: #7f7f7f\">:</span><a href=\"file:///Users/avaj0001/Documents/projects/pywavelet/case_studies.gaps/src/gap_study_utils/analysis_data.py#81\" target=\"_blank\"><span style=\"color: #7f7f7f; text-decoration-color: #7f7f7f\">81</span></a>\n",
       "</pre>\n"
      ]
     },
     "metadata": {},
     "output_type": "display_data"
    },
    {
     "data": {
      "text/plain": [
       "\u001B[2;36m[20:30:26]\u001B[0m\u001B[2;36m \u001B[0m\u001B[34mINFO    \u001B[0m ht: \u001B[1;35mTimeSeries\u001B[0m\u001B[1m(\u001B[0m\u001B[33mn\u001B[0m=\u001B[1;36m2\u001B[0m^\u001B[1;36m21\u001B[0m, \u001B[33mtrange\u001B[0m=\u001B[1m[\u001B[0m\u001B[1;36m0.00\u001B[0m, \u001B[1;36m242.73\u001B[0m\u001B[1m]\u001B[0m day, \u001B[33mT\u001B[0m=\u001B[1;36m242\u001B[0m\u001B[1;36m.73\u001B[0m day, \u001B[33mfs\u001B[0m=\u001B[1;36m0\u001B[0m\u001B[1;36m.10\u001B[0m Hz\u001B[1m)\u001B[0m \u001B]8;id=66144;file:///Users/avaj0001/Documents/projects/pywavelet/case_studies.gaps/src/gap_study_utils/analysis_data.py\u001B\\\u001B[2manalysis_data.py\u001B[0m\u001B]8;;\u001B\\\u001B[2m:\u001B[0m\u001B]8;id=864939;file:///Users/avaj0001/Documents/projects/pywavelet/case_studies.gaps/src/gap_study_utils/analysis_data.py#82\u001B\\\u001B[2m82\u001B[0m\u001B]8;;\u001B\\\n",
       "\u001B[2;36m           \u001B[0m         gaps: \u001B[1;35mGapWindow\u001B[0m\u001B[1m(\u001B[0mRECTANGULAR_WINDOW, \u001B[1;36m42\u001B[0m,\u001B[1;36m823\u001B[0m/\u001B[1;36m2\u001B[0m,\u001B[1;36m097\u001B[0m,\u001B[1;36m152\u001B[0m NaNs\u001B[1m)\u001B[0m                  \u001B[2m                   \u001B[0m\n",
       "\u001B[2;36m           \u001B[0m         windowed: \u001B[3;91mFalse\u001B[0m                                                             \u001B[2m                   \u001B[0m\n",
       "\u001B[2;36m           \u001B[0m         noise: \u001B[3;91mFalse\u001B[0m                                                                \u001B[2m                   \u001B[0m\n",
       "\u001B[2;36m           \u001B[0m         optimal_snr: \u001B[1;36m544.25\u001B[0m                                                         \u001B[2m                   \u001B[0m\n",
       "\u001B[2;36m           \u001B[0m         matched_filter_snr: \u001B[1;36m544.25\u001B[0m                                                  \u001B[2m                   \u001B[0m\n",
       "\u001B[2;36m           \u001B[0m         optimal_wavelet_snr: \u001B[1;36m504.43\u001B[0m                                                 \u001B[2m                   \u001B[0m\n",
       "\u001B[2;36m           \u001B[0m         matched_filter_wavelet_snr: \u001B[1;36m493.9\u001B[0m                                           \u001B[2m                   \u001B[0m\n",
       "\u001B[2;36m           \u001B[0m         optimal_data_wavelet_snr: \u001B[1;36m494.5\u001B[0m                                             \u001B[2m                   \u001B[0m\n",
       "\u001B[2;36m           \u001B[0m         matched_filter_data_wavelet_snr: \u001B[1;36m494.5\u001B[0m                                      \u001B[2m                   \u001B[0m\n",
       "\u001B[2;36m           \u001B[0m         lnL@true: \u001B[1;36m-0.0\u001B[0m:.2e                                                          \u001B[2m                   \u001B[0m\n"
      ],
      "text/html": [
       "<pre style=\"white-space:pre;overflow-x:auto;line-height:normal;font-family:Menlo,'DejaVu Sans Mono',consolas,'Courier New',monospace\"><span style=\"color: #7fbfbf; text-decoration-color: #7fbfbf\">[20:30:26] </span><span style=\"color: #000080; text-decoration-color: #000080\">INFO    </span> ht: <span style=\"color: #800080; text-decoration-color: #800080; font-weight: bold\">TimeSeries</span><span style=\"font-weight: bold\">(</span><span style=\"color: #808000; text-decoration-color: #808000\">n</span>=<span style=\"color: #008080; text-decoration-color: #008080; font-weight: bold\">2</span>^<span style=\"color: #008080; text-decoration-color: #008080; font-weight: bold\">21</span>, <span style=\"color: #808000; text-decoration-color: #808000\">trange</span>=<span style=\"font-weight: bold\">[</span><span style=\"color: #008080; text-decoration-color: #008080; font-weight: bold\">0.00</span>, <span style=\"color: #008080; text-decoration-color: #008080; font-weight: bold\">242.73</span><span style=\"font-weight: bold\">]</span> day, <span style=\"color: #808000; text-decoration-color: #808000\">T</span>=<span style=\"color: #008080; text-decoration-color: #008080; font-weight: bold\">242.73</span> day, <span style=\"color: #808000; text-decoration-color: #808000\">fs</span>=<span style=\"color: #008080; text-decoration-color: #008080; font-weight: bold\">0.10</span> Hz<span style=\"font-weight: bold\">)</span> <a href=\"file:///Users/avaj0001/Documents/projects/pywavelet/case_studies.gaps/src/gap_study_utils/analysis_data.py\" target=\"_blank\"><span style=\"color: #7f7f7f; text-decoration-color: #7f7f7f\">analysis_data.py</span></a><span style=\"color: #7f7f7f; text-decoration-color: #7f7f7f\">:</span><a href=\"file:///Users/avaj0001/Documents/projects/pywavelet/case_studies.gaps/src/gap_study_utils/analysis_data.py#82\" target=\"_blank\"><span style=\"color: #7f7f7f; text-decoration-color: #7f7f7f\">82</span></a>\n",
       "<span style=\"color: #7fbfbf; text-decoration-color: #7fbfbf\">           </span>         gaps: <span style=\"color: #800080; text-decoration-color: #800080; font-weight: bold\">GapWindow</span><span style=\"font-weight: bold\">(</span>RECTANGULAR_WINDOW, <span style=\"color: #008080; text-decoration-color: #008080; font-weight: bold\">42</span>,<span style=\"color: #008080; text-decoration-color: #008080; font-weight: bold\">823</span>/<span style=\"color: #008080; text-decoration-color: #008080; font-weight: bold\">2</span>,<span style=\"color: #008080; text-decoration-color: #008080; font-weight: bold\">097</span>,<span style=\"color: #008080; text-decoration-color: #008080; font-weight: bold\">152</span> NaNs<span style=\"font-weight: bold\">)</span>                  <span style=\"color: #7f7f7f; text-decoration-color: #7f7f7f\">                   </span>\n",
       "<span style=\"color: #7fbfbf; text-decoration-color: #7fbfbf\">           </span>         windowed: <span style=\"color: #ff0000; text-decoration-color: #ff0000; font-style: italic\">False</span>                                                             <span style=\"color: #7f7f7f; text-decoration-color: #7f7f7f\">                   </span>\n",
       "<span style=\"color: #7fbfbf; text-decoration-color: #7fbfbf\">           </span>         noise: <span style=\"color: #ff0000; text-decoration-color: #ff0000; font-style: italic\">False</span>                                                                <span style=\"color: #7f7f7f; text-decoration-color: #7f7f7f\">                   </span>\n",
       "<span style=\"color: #7fbfbf; text-decoration-color: #7fbfbf\">           </span>         optimal_snr: <span style=\"color: #008080; text-decoration-color: #008080; font-weight: bold\">544.25</span>                                                         <span style=\"color: #7f7f7f; text-decoration-color: #7f7f7f\">                   </span>\n",
       "<span style=\"color: #7fbfbf; text-decoration-color: #7fbfbf\">           </span>         matched_filter_snr: <span style=\"color: #008080; text-decoration-color: #008080; font-weight: bold\">544.25</span>                                                  <span style=\"color: #7f7f7f; text-decoration-color: #7f7f7f\">                   </span>\n",
       "<span style=\"color: #7fbfbf; text-decoration-color: #7fbfbf\">           </span>         optimal_wavelet_snr: <span style=\"color: #008080; text-decoration-color: #008080; font-weight: bold\">504.43</span>                                                 <span style=\"color: #7f7f7f; text-decoration-color: #7f7f7f\">                   </span>\n",
       "<span style=\"color: #7fbfbf; text-decoration-color: #7fbfbf\">           </span>         matched_filter_wavelet_snr: <span style=\"color: #008080; text-decoration-color: #008080; font-weight: bold\">493.9</span>                                           <span style=\"color: #7f7f7f; text-decoration-color: #7f7f7f\">                   </span>\n",
       "<span style=\"color: #7fbfbf; text-decoration-color: #7fbfbf\">           </span>         optimal_data_wavelet_snr: <span style=\"color: #008080; text-decoration-color: #008080; font-weight: bold\">494.5</span>                                             <span style=\"color: #7f7f7f; text-decoration-color: #7f7f7f\">                   </span>\n",
       "<span style=\"color: #7fbfbf; text-decoration-color: #7fbfbf\">           </span>         matched_filter_data_wavelet_snr: <span style=\"color: #008080; text-decoration-color: #008080; font-weight: bold\">494.5</span>                                      <span style=\"color: #7f7f7f; text-decoration-color: #7f7f7f\">                   </span>\n",
       "<span style=\"color: #7fbfbf; text-decoration-color: #7fbfbf\">           </span>         lnL@true: <span style=\"color: #008080; text-decoration-color: #008080; font-weight: bold\">-0.0</span>:.2e                                                          <span style=\"color: #7f7f7f; text-decoration-color: #7f7f7f\">                   </span>\n",
       "</pre>\n"
      ]
     },
     "metadata": {},
     "output_type": "display_data"
    }
   ],
   "execution_count": 21
  },
  {
   "cell_type": "code",
   "id": "70b543a586ddedbd",
   "metadata": {},
   "source": [
    "fig, ax = plt.subplots(1, 1, figsize=(12, 3.3))\n",
    "fig, _ = data.data_wavelet.plot(ax=ax, whiten_by=None, freq_range=[0.005, 0.028])\n",
    "fig.savefig(os.path.join(outdir, \"data_wavelet.png\"), bbox_inches=\"tight\")"
   ],
   "outputs": [],
   "execution_count": null
  },
  {
   "cell_type": "markdown",
   "id": "21e99c2a80536a05",
   "metadata": {},
   "source": [
    "![outdir_1year/data_wavelet.png](outdir_1year/data_wavelet.png)"
   ]
  },
  {
   "cell_type": "code",
   "id": "b914b2773f741ad1",
   "metadata": {
    "ExecuteTime": {
     "end_time": "2025-02-03T07:30:34.760664Z",
     "start_time": "2025-02-03T07:30:31.422668Z"
    }
   },
   "source": [
    "%%timeit\n",
    "\n",
    "data.lnl(LN_A, LN_F, LN_FDOT)"
   ],
   "outputs": [
    {
     "name": "stdout",
     "output_type": "stream",
     "text": [
      "402 ms ± 12.3 ms per loop (mean ± std. dev. of 7 runs, 1 loop each)\n"
     ]
    }
   ],
   "execution_count": 22
  },
  {
   "cell_type": "markdown",
   "id": "755403c44fd3251b",
   "metadata": {},
   "source": [
    "## MCMC"
   ]
  },
  {
   "cell_type": "code",
   "id": "124c4d9025a72379",
   "metadata": {},
   "source": [
    "run_mcmc(\n",
    "    true_params=[LN_A, LN_F, LN_FDOT],\n",
    "    gap_ranges=gap_ranges,\n",
    "    gap_type=\"rectangular_window\",\n",
    "    Nf=64,\n",
    "    tmax=tmax,\n",
    "    dt=dt,\n",
    "    alpha=0.0,\n",
    "    highpass_fmin=None,\n",
    "    frange=[0.005, 0.028],\n",
    "    noise_realisation=False,\n",
    "    outdir=f\"{outdir}/mcmc_no_noise\",\n",
    "    noise_curve='TDI1',\n",
    "    burnin=150,\n",
    "    n_iter=250\n",
    ")"
   ],
   "outputs": [],
   "execution_count": null
  },
  {
   "metadata": {},
   "cell_type": "markdown",
   "source": "![outdir_1year/mcmc_no_noise/summary.png](outdir_1year/mcmc_no_noise/summary.png)",
   "id": "7821604cf1a72bdd"
  },
  {
   "metadata": {},
   "cell_type": "code",
   "source": [
    "# Plotting both modes\n",
    "\n",
    "lna = -48.395\n",
    "lnf = (-4.0 * 1e-6)-5.29831\n",
    "lnfdot = (-66.0 * 1e-6)-2.07232e1\n",
    "mode2_wdm = data.htemplate(lna,lnf,lnfdot)\n",
    "true_wdm = data.htemplate(LN_A,LN_F,LN_FDOT)\n",
    "\n",
    "fig, axes = plt.subplots(3, 1, figsize=(12, 4), sharex=True, sharey=True)\n",
    "true_wdm.plot(ax=axes[0], freq_range=[0.005, 0.028], label=\"True\")\n",
    "mode2_wdm.plot(ax=axes[1], freq_range=[0.005, 0.028], label=\"2ndary mode\")\n",
    "diffr = true_wdm - mode2_wdm\n",
    "diffr.plot(ax=axes[2], freq_range=[0.005, 0.028], label=\"Difference\")\n",
    "plt.subplots_adjust(hspace=0.0)\n",
    "plt.savefig(os.path.join(outdir, \"true_vs_2ndary_mode.png\"), bbox_inches=\"tight\")"
   ],
   "id": "b3b7314858073ff2",
   "outputs": [],
   "execution_count": null
  },
  {
   "metadata": {},
   "cell_type": "markdown",
   "source": "![outdir_1year/true_vs_2ndary_mode.png](outdir_1year/true_vs_2ndary_mode.png)",
   "id": "86d165c8c64cfe46"
  },
  {
   "cell_type": "code",
   "id": "92513350ff7a3245",
   "metadata": {},
   "source": [],
   "outputs": [],
   "execution_count": null
  }
 ],
 "metadata": {
  "jupytext": {
   "formats": "ipynb,py:percent"
  },
  "kernelspec": {
   "display_name": "Python 3",
   "language": "python",
   "name": "python3"
  },
  "language_info": {
   "codemirror_mode": {
    "name": "ipython",
    "version": 2
   },
   "file_extension": ".py",
   "mimetype": "text/x-python",
   "name": "python",
   "nbconvert_exporter": "python",
   "pygments_lexer": "ipython2",
   "version": "2.7.6"
  }
 },
 "nbformat": 4,
 "nbformat_minor": 5
}
