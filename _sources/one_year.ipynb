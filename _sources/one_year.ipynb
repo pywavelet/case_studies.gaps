{
 "cells": [
  {
   "cell_type": "markdown",
   "id": "137daddfc6c37e72",
   "metadata": {},
   "source": [
    "# One year of LISA data "
   ]
  },
  {
   "cell_type": "code",
   "id": "initial_id",
   "metadata": {
    "collapsed": true,
    "ExecuteTime": {
     "end_time": "2025-02-03T07:30:21.810307Z",
     "start_time": "2025-02-03T07:30:21.767753Z"
    }
   },
   "source": [
    "%load_ext autoreload\n",
    "%autoreload 2\n",
    "\n",
    "import numpy as np\n",
    "import os\n",
    "from gap_study_utils.analysis_data import AnalysisData, get_suggested_tmax\n",
    "from gap_study_utils.utils.signal_utils import waveform\n",
    "from gap_study_utils.gaps.gap_funcs import generate_gap_ranges\n",
    "from gap_study_utils.gaps import GapType\n",
    "from gap_study_utils.mcmc_runner import run_mcmc\n",
    "import matplotlib.pyplot as plt\n",
    "\n",
    "np.random.seed(0)\n",
    "\n",
    "LN_A = np.log(1e-21)\n",
    "LN_F = np.log(0.005)\n",
    "LN_FDOT = np.log(1e-9)\n",
    "\n",
    "HOURS = 60 * 60\n",
    "DAYS = 24 * HOURS\n",
    "\n",
    "np.random.seed(0)\n",
    "dt = 10\n",
    "tmax = get_suggested_tmax(DAYS * 365.4)\n",
    "\n",
    "outdir = f\"outdir_1year\"\n",
    "os.makedirs(outdir, exist_ok=True)\n",
    "\n",
    "gap_ranges = generate_gap_ranges(tmax, gap_period=DAYS * 14, gap_duration=HOURS * 7)\n",
    "print(\"Number of gaps: \", len(gap_ranges))\n"
   ],
   "outputs": [
    {
     "name": "stdout",
     "output_type": "stream",
     "text": [
      "The autoreload extension is already loaded. To reload it, use:\n",
      "  %reload_ext autoreload\n",
      "Number of gaps:  17\n"
     ]
    }
   ],
   "execution_count": 20
  },
  {
   "cell_type": "code",
   "id": "3d1e005e28ffd938",
   "metadata": {
    "ExecuteTime": {
     "end_time": "2025-02-03T07:52:43.857103Z",
     "start_time": "2025-02-03T07:49:49.010243Z"
    }
   },
   "source": [
    "data = AnalysisData(\n",
    "    data_kwargs=dict(dt=dt, noise=False, tmax=tmax),\n",
    "    gap_kwargs=dict(type=GapType.STITCH, gap_ranges=gap_ranges),\n",
    "    waveform_generator=waveform,\n",
    "    waveform_parameters=[LN_A, LN_F, LN_FDOT],\n",
    ");\n",
    "print(\"DONEE\")"
   ],
   "outputs": [
    {
     "data": {
      "text/plain": [
       "\u001B[2;36m[20:49:49]\u001B[0m\u001B[2;36m \u001B[0m\u001B[34mINFO    \u001B[0m Initalizing GapWindow with STITCH gaps \u001B[1m(\u001B[0m\u001B[1;36m17\u001B[0m gaps\u001B[1m)\u001B[0m.                          \u001B]8;id=578985;file:///Users/avaj0001/Documents/projects/pywavelet/case_studies.gaps/src/gap_study_utils/analysis_data.py\u001B\\\u001B[2manalysis_data.py\u001B[0m\u001B]8;;\u001B\\\u001B[2m:\u001B[0m\u001B]8;id=828180;file:///Users/avaj0001/Documents/projects/pywavelet/case_studies.gaps/src/gap_study_utils/analysis_data.py#129\u001B\\\u001B[2m129\u001B[0m\u001B]8;;\u001B\\\n"
      ],
      "text/html": [
       "<pre style=\"white-space:pre;overflow-x:auto;line-height:normal;font-family:Menlo,'DejaVu Sans Mono',consolas,'Courier New',monospace\"><span style=\"color: #7fbfbf; text-decoration-color: #7fbfbf\">[20:49:49] </span><span style=\"color: #000080; text-decoration-color: #000080\">INFO    </span> Initalizing GapWindow with STITCH gaps <span style=\"font-weight: bold\">(</span><span style=\"color: #008080; text-decoration-color: #008080; font-weight: bold\">17</span> gaps<span style=\"font-weight: bold\">)</span>.                          <a href=\"file:///Users/avaj0001/Documents/projects/pywavelet/case_studies.gaps/src/gap_study_utils/analysis_data.py\" target=\"_blank\"><span style=\"color: #7f7f7f; text-decoration-color: #7f7f7f\">analysis_data.py</span></a><span style=\"color: #7f7f7f; text-decoration-color: #7f7f7f\">:</span><a href=\"file:///Users/avaj0001/Documents/projects/pywavelet/case_studies.gaps/src/gap_study_utils/analysis_data.py#129\" target=\"_blank\"><span style=\"color: #7f7f7f; text-decoration-color: #7f7f7f\">129</span></a>\n",
       "</pre>\n"
      ]
     },
     "metadata": {},
     "output_type": "display_data"
    },
    {
     "data": {
      "text/plain": [
       "\u001B[2;36m          \u001B[0m\u001B[2;36m \u001B[0m\u001B[34mINFO    \u001B[0m AnalysisData initialized.                                                   \u001B]8;id=494782;file:///Users/avaj0001/Documents/projects/pywavelet/case_studies.gaps/src/gap_study_utils/analysis_data.py\u001B\\\u001B[2manalysis_data.py\u001B[0m\u001B]8;;\u001B\\\u001B[2m:\u001B[0m\u001B]8;id=408897;file:///Users/avaj0001/Documents/projects/pywavelet/case_studies.gaps/src/gap_study_utils/analysis_data.py#81\u001B\\\u001B[2m81\u001B[0m\u001B]8;;\u001B\\\n"
      ],
      "text/html": [
       "<pre style=\"white-space:pre;overflow-x:auto;line-height:normal;font-family:Menlo,'DejaVu Sans Mono',consolas,'Courier New',monospace\"><span style=\"color: #7fbfbf; text-decoration-color: #7fbfbf\">           </span><span style=\"color: #000080; text-decoration-color: #000080\">INFO    </span> AnalysisData initialized.                                                   <a href=\"file:///Users/avaj0001/Documents/projects/pywavelet/case_studies.gaps/src/gap_study_utils/analysis_data.py\" target=\"_blank\"><span style=\"color: #7f7f7f; text-decoration-color: #7f7f7f\">analysis_data.py</span></a><span style=\"color: #7f7f7f; text-decoration-color: #7f7f7f\">:</span><a href=\"file:///Users/avaj0001/Documents/projects/pywavelet/case_studies.gaps/src/gap_study_utils/analysis_data.py#81\" target=\"_blank\"><span style=\"color: #7f7f7f; text-decoration-color: #7f7f7f\">81</span></a>\n",
       "</pre>\n"
      ]
     },
     "metadata": {},
     "output_type": "display_data"
    },
    {
     "ename": "KeyboardInterrupt",
     "evalue": "",
     "output_type": "error",
     "traceback": [
      "\u001B[0;31m---------------------------------------------------------------------------\u001B[0m",
      "\u001B[0;31mKeyboardInterrupt\u001B[0m                         Traceback (most recent call last)",
      "Cell \u001B[0;32mIn[23], line 1\u001B[0m\n\u001B[0;32m----> 1\u001B[0m data \u001B[38;5;241m=\u001B[39m \u001B[43mAnalysisData\u001B[49m\u001B[43m(\u001B[49m\n\u001B[1;32m      2\u001B[0m \u001B[43m    \u001B[49m\u001B[43mdata_kwargs\u001B[49m\u001B[38;5;241;43m=\u001B[39;49m\u001B[38;5;28;43mdict\u001B[39;49m\u001B[43m(\u001B[49m\u001B[43mdt\u001B[49m\u001B[38;5;241;43m=\u001B[39;49m\u001B[43mdt\u001B[49m\u001B[43m,\u001B[49m\u001B[43m \u001B[49m\u001B[43mnoise\u001B[49m\u001B[38;5;241;43m=\u001B[39;49m\u001B[38;5;28;43;01mFalse\u001B[39;49;00m\u001B[43m,\u001B[49m\u001B[43m \u001B[49m\u001B[43mtmax\u001B[49m\u001B[38;5;241;43m=\u001B[39;49m\u001B[43mtmax\u001B[49m\u001B[43m)\u001B[49m\u001B[43m,\u001B[49m\n\u001B[1;32m      3\u001B[0m \u001B[43m    \u001B[49m\u001B[43mgap_kwargs\u001B[49m\u001B[38;5;241;43m=\u001B[39;49m\u001B[38;5;28;43mdict\u001B[39;49m\u001B[43m(\u001B[49m\u001B[38;5;28;43mtype\u001B[39;49m\u001B[38;5;241;43m=\u001B[39;49m\u001B[43mGapType\u001B[49m\u001B[38;5;241;43m.\u001B[39;49m\u001B[43mSTITCH\u001B[49m\u001B[43m,\u001B[49m\u001B[43m \u001B[49m\u001B[43mgap_ranges\u001B[49m\u001B[38;5;241;43m=\u001B[39;49m\u001B[43mgap_ranges\u001B[49m\u001B[43m)\u001B[49m\u001B[43m,\u001B[49m\n\u001B[1;32m      4\u001B[0m \u001B[43m    \u001B[49m\u001B[43mwaveform_generator\u001B[49m\u001B[38;5;241;43m=\u001B[39;49m\u001B[43mwaveform\u001B[49m\u001B[43m,\u001B[49m\n\u001B[1;32m      5\u001B[0m \u001B[43m    \u001B[49m\u001B[43mwaveform_parameters\u001B[49m\u001B[38;5;241;43m=\u001B[39;49m\u001B[43m[\u001B[49m\u001B[43mLN_A\u001B[49m\u001B[43m,\u001B[49m\u001B[43m \u001B[49m\u001B[43mLN_F\u001B[49m\u001B[43m,\u001B[49m\u001B[43m \u001B[49m\u001B[43mLN_FDOT\u001B[49m\u001B[43m]\u001B[49m\u001B[43m,\u001B[49m\n\u001B[1;32m      6\u001B[0m \u001B[43m)\u001B[49m;\n",
      "File \u001B[0;32m~/Documents/projects/pywavelet/case_studies.gaps/src/gap_study_utils/analysis_data.py:82\u001B[0m, in \u001B[0;36mAnalysisData.__init__\u001B[0;34m(self, data_kwargs, gap_kwargs, waveform_generator, waveform_parameters, plotfn)\u001B[0m\n\u001B[1;32m     79\u001B[0m \u001B[38;5;28mself\u001B[39m\u001B[38;5;241m.\u001B[39mpriors:ProbDistContainer \u001B[38;5;241m=\u001B[39m construct_prior(\u001B[38;5;28mself\u001B[39m\u001B[38;5;241m.\u001B[39mwaveform_parameters)\n\u001B[1;32m     81\u001B[0m logger\u001B[38;5;241m.\u001B[39minfo(\u001B[38;5;124m\"\u001B[39m\u001B[38;5;124mAnalysisData initialized.\u001B[39m\u001B[38;5;124m\"\u001B[39m)\n\u001B[0;32m---> 82\u001B[0m logger\u001B[38;5;241m.\u001B[39minfo(\u001B[38;5;28;43mself\u001B[39;49m\u001B[38;5;241;43m.\u001B[39;49m\u001B[43msummary\u001B[49m)\n",
      "File \u001B[0;32m~/Documents/projects/pywavelet/case_studies.gaps/src/gap_study_utils/analysis_data.py:325\u001B[0m, in \u001B[0;36mAnalysisData.summary\u001B[0;34m(self)\u001B[0m\n\u001B[1;32m    322\u001B[0m \u001B[38;5;129m@property\u001B[39m\n\u001B[1;32m    323\u001B[0m \u001B[38;5;28;01mdef\u001B[39;00m\u001B[38;5;250m \u001B[39m\u001B[38;5;21msummary\u001B[39m(\u001B[38;5;28mself\u001B[39m) \u001B[38;5;241m-\u001B[39m\u001B[38;5;241m>\u001B[39m \u001B[38;5;28mstr\u001B[39m:\n\u001B[1;32m    324\u001B[0m \u001B[38;5;250m    \u001B[39m\u001B[38;5;124;03m\"\"\"Formatted summary string of analysis metrics.\"\"\"\u001B[39;00m\n\u001B[0;32m--> 325\u001B[0m     \u001B[38;5;28;01mreturn\u001B[39;00m \u001B[38;5;124m\"\u001B[39m\u001B[38;5;130;01m\\n\u001B[39;00m\u001B[38;5;124m\"\u001B[39m\u001B[38;5;241m.\u001B[39mjoin([\u001B[38;5;124mf\u001B[39m\u001B[38;5;124m\"\u001B[39m\u001B[38;5;132;01m{\u001B[39;00mk\u001B[38;5;132;01m}\u001B[39;00m\u001B[38;5;124m: \u001B[39m\u001B[38;5;132;01m{\u001B[39;00mv\u001B[38;5;132;01m}\u001B[39;00m\u001B[38;5;124m\"\u001B[39m \u001B[38;5;28;01mfor\u001B[39;00m k, v \u001B[38;5;129;01min\u001B[39;00m \u001B[38;5;28;43mself\u001B[39;49m\u001B[38;5;241;43m.\u001B[39;49m\u001B[43msummary_dict\u001B[49m\u001B[38;5;241m.\u001B[39mitems()])\n",
      "File \u001B[0;32m~/Documents/projects/pywavelet/case_studies.gaps/src/gap_study_utils/analysis_data.py:316\u001B[0m, in \u001B[0;36mAnalysisData.summary_dict\u001B[0;34m(self)\u001B[0m\n\u001B[1;32m    308\u001B[0m \u001B[38;5;28;01mif\u001B[39;00m \u001B[38;5;129;01mnot\u001B[39;00m \u001B[38;5;28mhasattr\u001B[39m(\u001B[38;5;28mself\u001B[39m, \u001B[38;5;124m\"\u001B[39m\u001B[38;5;124m_summary_dict\u001B[39m\u001B[38;5;124m\"\u001B[39m):\n\u001B[1;32m    309\u001B[0m     windowed \u001B[38;5;241m=\u001B[39m \u001B[38;5;28mself\u001B[39m\u001B[38;5;241m.\u001B[39mhighpass_fmin \u001B[38;5;129;01mis\u001B[39;00m \u001B[38;5;129;01mnot\u001B[39;00m \u001B[38;5;28;01mNone\u001B[39;00m \u001B[38;5;129;01mand\u001B[39;00m \u001B[38;5;28mself\u001B[39m\u001B[38;5;241m.\u001B[39mhighpass_fmin \u001B[38;5;241m>\u001B[39m \u001B[38;5;241m0\u001B[39m\n\u001B[1;32m    311\u001B[0m     \u001B[38;5;28mself\u001B[39m\u001B[38;5;241m.\u001B[39m_summary_dict \u001B[38;5;241m=\u001B[39m \u001B[38;5;28mdict\u001B[39m(\n\u001B[1;32m    312\u001B[0m         ht\u001B[38;5;241m=\u001B[39m\u001B[38;5;28mself\u001B[39m\u001B[38;5;241m.\u001B[39mht,\n\u001B[1;32m    313\u001B[0m         gaps\u001B[38;5;241m=\u001B[39m\u001B[38;5;28mself\u001B[39m\u001B[38;5;241m.\u001B[39mgaps,\n\u001B[1;32m    314\u001B[0m         windowed\u001B[38;5;241m=\u001B[39mwindowed,\n\u001B[1;32m    315\u001B[0m         noise\u001B[38;5;241m=\u001B[39m\u001B[38;5;28mself\u001B[39m\u001B[38;5;241m.\u001B[39mnoise,\n\u001B[0;32m--> 316\u001B[0m         \u001B[38;5;241m*\u001B[39m\u001B[38;5;241m*\u001B[39m\u001B[38;5;28;43mself\u001B[39;49m\u001B[38;5;241;43m.\u001B[39;49m\u001B[43msnr_dict\u001B[49m,\n\u001B[1;32m    317\u001B[0m     )\n\u001B[1;32m    318\u001B[0m     \u001B[38;5;28mself\u001B[39m\u001B[38;5;241m.\u001B[39m_summary_dict[\u001B[38;5;124m\"\u001B[39m\u001B[38;5;124mlnL@true\u001B[39m\u001B[38;5;124m\"\u001B[39m] \u001B[38;5;241m=\u001B[39m \u001B[38;5;124mf\u001B[39m\u001B[38;5;124m\"\u001B[39m\u001B[38;5;132;01m{\u001B[39;00m\u001B[38;5;28mself\u001B[39m\u001B[38;5;241m.\u001B[39mlnl(\u001B[38;5;241m*\u001B[39m\u001B[38;5;28mself\u001B[39m\u001B[38;5;241m.\u001B[39mwaveform_parameters)\u001B[38;5;132;01m}\u001B[39;00m\u001B[38;5;124m:.2e\u001B[39m\u001B[38;5;124m\"\u001B[39m\n\u001B[1;32m    320\u001B[0m \u001B[38;5;28;01mreturn\u001B[39;00m \u001B[38;5;28mself\u001B[39m\u001B[38;5;241m.\u001B[39m_summary_dict\n",
      "File \u001B[0;32m~/Documents/projects/pywavelet/case_studies.gaps/src/gap_study_utils/analysis_data.py:333\u001B[0m, in \u001B[0;36mAnalysisData.snr_dict\u001B[0;34m(self)\u001B[0m\n\u001B[1;32m    329\u001B[0m \u001B[38;5;250m\u001B[39m\u001B[38;5;124;03m\"\"\"Calculate various SNR values based on the analysis data.\"\"\"\u001B[39;00m\n\u001B[1;32m    330\u001B[0m \u001B[38;5;28;01mif\u001B[39;00m \u001B[38;5;129;01mnot\u001B[39;00m \u001B[38;5;28mhasattr\u001B[39m(\u001B[38;5;28mself\u001B[39m, \u001B[38;5;124m\"\u001B[39m\u001B[38;5;124m_snr_dict\u001B[39m\u001B[38;5;124m\"\u001B[39m):\n\u001B[1;32m    331\u001B[0m     \u001B[38;5;28mself\u001B[39m\u001B[38;5;241m.\u001B[39m_snr_dict \u001B[38;5;241m=\u001B[39m compute_snr_dict(\n\u001B[1;32m    332\u001B[0m         \u001B[38;5;28mself\u001B[39m\u001B[38;5;241m.\u001B[39mhf, \u001B[38;5;28mself\u001B[39m\u001B[38;5;241m.\u001B[39mpsd_freqseries, \u001B[38;5;28mself\u001B[39m\u001B[38;5;241m.\u001B[39mdata_frequencyseries,\n\u001B[0;32m--> 333\u001B[0m         \u001B[38;5;28mself\u001B[39m\u001B[38;5;241m.\u001B[39mhwavelet, \u001B[38;5;28mself\u001B[39m\u001B[38;5;241m.\u001B[39mpsd_wavelet, \u001B[38;5;28;43mself\u001B[39;49m\u001B[38;5;241;43m.\u001B[39;49m\u001B[43mdata_wavelet\u001B[49m,\n\u001B[1;32m    334\u001B[0m         \u001B[38;5;28mself\u001B[39m\u001B[38;5;241m.\u001B[39mpsd_analysis, \u001B[38;5;28mself\u001B[39m\u001B[38;5;241m.\u001B[39mgaps, \u001B[38;5;28mself\u001B[39m\u001B[38;5;241m.\u001B[39mhwavelet_gapped\n\u001B[1;32m    335\u001B[0m     )\n\u001B[1;32m    336\u001B[0m \u001B[38;5;28;01mreturn\u001B[39;00m \u001B[38;5;28mself\u001B[39m\u001B[38;5;241m.\u001B[39m_snr_dict\n",
      "File \u001B[0;32m~/Documents/projects/pywavelet/case_studies.gaps/src/gap_study_utils/analysis_data.py:299\u001B[0m, in \u001B[0;36mAnalysisData.data_wavelet\u001B[0;34m(self)\u001B[0m\n\u001B[1;32m    294\u001B[0m \u001B[38;5;28;01mif\u001B[39;00m \u001B[38;5;129;01mnot\u001B[39;00m \u001B[38;5;28mhasattr\u001B[39m(\u001B[38;5;28mself\u001B[39m, \u001B[38;5;124m\"\u001B[39m\u001B[38;5;124m_data_wavelet\u001B[39m\u001B[38;5;124m\"\u001B[39m):\n\u001B[1;32m    295\u001B[0m     data_timeseries \u001B[38;5;241m=\u001B[39m \u001B[38;5;28mself\u001B[39m\u001B[38;5;241m.\u001B[39mdata_timeseries\n\u001B[1;32m    296\u001B[0m     \u001B[38;5;28mself\u001B[39m\u001B[38;5;241m.\u001B[39m_data_wavelet \u001B[38;5;241m=\u001B[39m (\n\u001B[1;32m    297\u001B[0m         data_timeseries\u001B[38;5;241m.\u001B[39mto_wavelet(Nf\u001B[38;5;241m=\u001B[39m\u001B[38;5;28mself\u001B[39m\u001B[38;5;241m.\u001B[39mNf)\n\u001B[1;32m    298\u001B[0m         \u001B[38;5;28;01mif\u001B[39;00m \u001B[38;5;129;01mnot\u001B[39;00m \u001B[38;5;28mself\u001B[39m\u001B[38;5;241m.\u001B[39mgaps\n\u001B[0;32m--> 299\u001B[0m         \u001B[38;5;28;01melse\u001B[39;00m \u001B[38;5;28;43mself\u001B[39;49m\u001B[38;5;241;43m.\u001B[39;49m\u001B[43mgaps\u001B[49m\u001B[38;5;241;43m.\u001B[39;49m\u001B[43mgap_n_transform_timeseries\u001B[49m\u001B[43m(\u001B[49m\n\u001B[1;32m    300\u001B[0m \u001B[43m            \u001B[49m\u001B[43mdata_timeseries\u001B[49m\u001B[43m,\u001B[49m\u001B[43m \u001B[49m\u001B[38;5;28;43mself\u001B[39;49m\u001B[38;5;241;43m.\u001B[39;49m\u001B[43mNf\u001B[49m\u001B[43m,\u001B[49m\u001B[43m \u001B[49m\u001B[38;5;28;43mself\u001B[39;49m\u001B[38;5;241;43m.\u001B[39;49m\u001B[43malpha\u001B[49m\u001B[43m,\u001B[49m\u001B[43m \u001B[49m\u001B[38;5;28;43mself\u001B[39;49m\u001B[38;5;241;43m.\u001B[39;49m\u001B[43mhighpass_fmin\u001B[49m\n\u001B[1;32m    301\u001B[0m \u001B[43m        \u001B[49m\u001B[43m)\u001B[49m\n\u001B[1;32m    302\u001B[0m     )\n\u001B[1;32m    303\u001B[0m \u001B[38;5;28;01mreturn\u001B[39;00m \u001B[38;5;28mself\u001B[39m\u001B[38;5;241m.\u001B[39m_data_wavelet\n",
      "File \u001B[0;32m~/Documents/projects/pywavelet/case_studies.gaps/src/gap_study_utils/gaps/gap_window.py:232\u001B[0m, in \u001B[0;36mGapWindow.gap_n_transform_timeseries\u001B[0;34m(self, ht, Nf, alpha, fmin)\u001B[0m\n\u001B[1;32m    226\u001B[0m gap_type_handlers \u001B[38;5;241m=\u001B[39m {\n\u001B[1;32m    227\u001B[0m     GapType\u001B[38;5;241m.\u001B[39mSTITCH: \u001B[38;5;28mself\u001B[39m\u001B[38;5;241m.\u001B[39m_gap_timeseries_chunk_transform_wdm_n_stitch,\n\u001B[1;32m    228\u001B[0m     GapType\u001B[38;5;241m.\u001B[39mRECTANGULAR_WINDOW: \u001B[38;5;28mself\u001B[39m\u001B[38;5;241m.\u001B[39m_gap_timeseries_with_0s_n_transform\n\u001B[1;32m    229\u001B[0m }\n\u001B[1;32m    231\u001B[0m \u001B[38;5;28;01mif\u001B[39;00m \u001B[38;5;28mself\u001B[39m\u001B[38;5;241m.\u001B[39mtype \u001B[38;5;129;01min\u001B[39;00m gap_type_handlers:\n\u001B[0;32m--> 232\u001B[0m     \u001B[38;5;28;01mreturn\u001B[39;00m \u001B[43mgap_type_handlers\u001B[49m\u001B[43m[\u001B[49m\u001B[38;5;28;43mself\u001B[39;49m\u001B[38;5;241;43m.\u001B[39;49m\u001B[43mtype\u001B[49m\u001B[43m]\u001B[49m\u001B[43m(\u001B[49m\u001B[43mht\u001B[49m\u001B[43m,\u001B[49m\u001B[43m \u001B[49m\u001B[43mNf\u001B[49m\u001B[43m,\u001B[49m\u001B[43m \u001B[49m\u001B[43malpha\u001B[49m\u001B[43m,\u001B[49m\u001B[43m \u001B[49m\u001B[43mfmin\u001B[49m\u001B[43m)\u001B[49m\n\u001B[1;32m    233\u001B[0m \u001B[38;5;28;01melse\u001B[39;00m:\n\u001B[1;32m    234\u001B[0m     gtypes \u001B[38;5;241m=\u001B[39m [\u001B[38;5;124mf\u001B[39m\u001B[38;5;124m\"\u001B[39m\u001B[38;5;124mGapType[\u001B[39m\u001B[38;5;132;01m{\u001B[39;00mg\u001B[38;5;241m.\u001B[39mtype\u001B[38;5;241m.\u001B[39mvalue\u001B[38;5;132;01m}\u001B[39;00m\u001B[38;5;124m] \u001B[39m\u001B[38;5;132;01m{\u001B[39;00mg\u001B[38;5;241m.\u001B[39mtype\u001B[38;5;132;01m}\u001B[39;00m\u001B[38;5;124m\"\u001B[39m \u001B[38;5;28;01mfor\u001B[39;00m g \u001B[38;5;129;01min\u001B[39;00m \u001B[38;5;28mlist\u001B[39m(gap_type_handlers\u001B[38;5;241m.\u001B[39mkeys())]\n",
      "File \u001B[0;32m~/Documents/projects/pywavelet/case_studies.gaps/src/gap_study_utils/gaps/gap_window.py:192\u001B[0m, in \u001B[0;36mGapWindow._gap_timeseries_chunk_transform_wdm_n_stitch\u001B[0;34m(self, ht, Nf, alpha, fmin)\u001B[0m\n\u001B[1;32m    188\u001B[0m \u001B[38;5;28;01mfor\u001B[39;00m i, w \u001B[38;5;129;01min\u001B[39;00m \u001B[38;5;28menumerate\u001B[39m(chunked_wavelets):\n\u001B[1;32m    189\u001B[0m     \u001B[38;5;66;03m# Get indices for matching time_bins with wavelet time\u001B[39;00m\n\u001B[1;32m    190\u001B[0m     stich_tmask \u001B[38;5;241m=\u001B[39m np\u001B[38;5;241m.\u001B[39mzeros(Nt, dtype\u001B[38;5;241m=\u001B[39m\u001B[38;5;28mbool\u001B[39m)\n\u001B[1;32m    191\u001B[0m     stich_tmask[ \u001B[38;5;66;03m# VERY SLOW\u001B[39;00m\n\u001B[0;32m--> 192\u001B[0m         \u001B[43mnp\u001B[49m\u001B[38;5;241;43m.\u001B[39;49m\u001B[43margmin\u001B[49m\u001B[43m(\u001B[49m\u001B[43mnp\u001B[49m\u001B[38;5;241;43m.\u001B[39;49m\u001B[43mabs\u001B[49m\u001B[43m(\u001B[49m\u001B[43mtime_bins\u001B[49m\u001B[43m[\u001B[49m\u001B[43m:\u001B[49m\u001B[43m,\u001B[49m\u001B[43m \u001B[49m\u001B[38;5;28;43;01mNone\u001B[39;49;00m\u001B[43m]\u001B[49m\u001B[43m \u001B[49m\u001B[38;5;241;43m-\u001B[39;49m\u001B[43m \u001B[49m\u001B[43mw\u001B[49m\u001B[38;5;241;43m.\u001B[39;49m\u001B[43mtime\u001B[49m\u001B[43m)\u001B[49m\u001B[43m,\u001B[49m\u001B[43m \u001B[49m\u001B[43maxis\u001B[49m\u001B[38;5;241;43m=\u001B[39;49m\u001B[38;5;241;43m0\u001B[39;49m\u001B[43m)\u001B[49m\n\u001B[1;32m    193\u001B[0m     ] \u001B[38;5;241m=\u001B[39m \u001B[38;5;28;01mTrue\u001B[39;00m\n\u001B[1;32m    195\u001B[0m     \u001B[38;5;66;03m# Get mask for valid time values in the wavelet\u001B[39;00m\n\u001B[1;32m    196\u001B[0m     w_tmask \u001B[38;5;241m=\u001B[39m np\u001B[38;5;241m.\u001B[39mzeros(w\u001B[38;5;241m.\u001B[39mNt, dtype\u001B[38;5;241m=\u001B[39m\u001B[38;5;28mbool\u001B[39m)\n",
      "File \u001B[0;32m~/Documents/projects/WDMWaveletTransforms/venv/lib/python3.11/site-packages/numpy/core/fromnumeric.py:1325\u001B[0m, in \u001B[0;36margmin\u001B[0;34m(a, axis, out, keepdims)\u001B[0m\n\u001B[1;32m   1238\u001B[0m \u001B[38;5;250m\u001B[39m\u001B[38;5;124;03m\"\"\"\u001B[39;00m\n\u001B[1;32m   1239\u001B[0m \u001B[38;5;124;03mReturns the indices of the minimum values along an axis.\u001B[39;00m\n\u001B[1;32m   1240\u001B[0m \n\u001B[0;32m   (...)\u001B[0m\n\u001B[1;32m   1322\u001B[0m \u001B[38;5;124;03m(2, 1, 4)\u001B[39;00m\n\u001B[1;32m   1323\u001B[0m \u001B[38;5;124;03m\"\"\"\u001B[39;00m\n\u001B[1;32m   1324\u001B[0m kwds \u001B[38;5;241m=\u001B[39m {\u001B[38;5;124m'\u001B[39m\u001B[38;5;124mkeepdims\u001B[39m\u001B[38;5;124m'\u001B[39m: keepdims} \u001B[38;5;28;01mif\u001B[39;00m keepdims \u001B[38;5;129;01mis\u001B[39;00m \u001B[38;5;129;01mnot\u001B[39;00m np\u001B[38;5;241m.\u001B[39m_NoValue \u001B[38;5;28;01melse\u001B[39;00m {}\n\u001B[0;32m-> 1325\u001B[0m \u001B[38;5;28;01mreturn\u001B[39;00m \u001B[43m_wrapfunc\u001B[49m\u001B[43m(\u001B[49m\u001B[43ma\u001B[49m\u001B[43m,\u001B[49m\u001B[43m \u001B[49m\u001B[38;5;124;43m'\u001B[39;49m\u001B[38;5;124;43margmin\u001B[39;49m\u001B[38;5;124;43m'\u001B[39;49m\u001B[43m,\u001B[49m\u001B[43m \u001B[49m\u001B[43maxis\u001B[49m\u001B[38;5;241;43m=\u001B[39;49m\u001B[43maxis\u001B[49m\u001B[43m,\u001B[49m\u001B[43m \u001B[49m\u001B[43mout\u001B[49m\u001B[38;5;241;43m=\u001B[39;49m\u001B[43mout\u001B[49m\u001B[43m,\u001B[49m\u001B[43m \u001B[49m\u001B[38;5;241;43m*\u001B[39;49m\u001B[38;5;241;43m*\u001B[39;49m\u001B[43mkwds\u001B[49m\u001B[43m)\u001B[49m\n",
      "File \u001B[0;32m~/Documents/projects/WDMWaveletTransforms/venv/lib/python3.11/site-packages/numpy/core/fromnumeric.py:59\u001B[0m, in \u001B[0;36m_wrapfunc\u001B[0;34m(obj, method, *args, **kwds)\u001B[0m\n\u001B[1;32m     56\u001B[0m     \u001B[38;5;28;01mreturn\u001B[39;00m _wrapit(obj, method, \u001B[38;5;241m*\u001B[39margs, \u001B[38;5;241m*\u001B[39m\u001B[38;5;241m*\u001B[39mkwds)\n\u001B[1;32m     58\u001B[0m \u001B[38;5;28;01mtry\u001B[39;00m:\n\u001B[0;32m---> 59\u001B[0m     \u001B[38;5;28;01mreturn\u001B[39;00m \u001B[43mbound\u001B[49m\u001B[43m(\u001B[49m\u001B[38;5;241;43m*\u001B[39;49m\u001B[43margs\u001B[49m\u001B[43m,\u001B[49m\u001B[43m \u001B[49m\u001B[38;5;241;43m*\u001B[39;49m\u001B[38;5;241;43m*\u001B[39;49m\u001B[43mkwds\u001B[49m\u001B[43m)\u001B[49m\n\u001B[1;32m     60\u001B[0m \u001B[38;5;28;01mexcept\u001B[39;00m \u001B[38;5;167;01mTypeError\u001B[39;00m:\n\u001B[1;32m     61\u001B[0m     \u001B[38;5;66;03m# A TypeError occurs if the object does have such a method in its\u001B[39;00m\n\u001B[1;32m     62\u001B[0m     \u001B[38;5;66;03m# class, but its signature is not identical to that of NumPy's. This\u001B[39;00m\n\u001B[0;32m   (...)\u001B[0m\n\u001B[1;32m     66\u001B[0m     \u001B[38;5;66;03m# Call _wrapit from within the except clause to ensure a potential\u001B[39;00m\n\u001B[1;32m     67\u001B[0m     \u001B[38;5;66;03m# exception has a traceback chain.\u001B[39;00m\n\u001B[1;32m     68\u001B[0m     \u001B[38;5;28;01mreturn\u001B[39;00m _wrapit(obj, method, \u001B[38;5;241m*\u001B[39margs, \u001B[38;5;241m*\u001B[39m\u001B[38;5;241m*\u001B[39mkwds)\n",
      "\u001B[0;31mKeyboardInterrupt\u001B[0m: "
     ]
    }
   ],
   "execution_count": 23
  },
  {
   "cell_type": "code",
   "id": "70b543a586ddedbd",
   "metadata": {},
   "source": [
    "fig, ax = plt.subplots(1, 1, figsize=(12, 3.3))\n",
    "fig, _ = data.data_wavelet.plot(ax=ax, whiten_by=None, freq_range=[0.005, 0.028])\n",
    "fig.savefig(os.path.join(outdir, \"data_wavelet.png\"), bbox_inches=\"tight\")"
   ],
   "outputs": [],
   "execution_count": null
  },
  {
   "cell_type": "markdown",
   "id": "21e99c2a80536a05",
   "metadata": {},
   "source": [
    "![outdir_1year/data_wavelet.png](outdir_1year/data_wavelet.png)"
   ]
  },
  {
   "cell_type": "code",
   "id": "b914b2773f741ad1",
   "metadata": {
    "ExecuteTime": {
     "end_time": "2025-02-03T07:30:34.760664Z",
     "start_time": "2025-02-03T07:30:31.422668Z"
    }
   },
   "source": [
    "%%timeit\n",
    "\n",
    "data.lnl(LN_A, LN_F, LN_FDOT)"
   ],
   "outputs": [
    {
     "name": "stdout",
     "output_type": "stream",
     "text": [
      "402 ms ± 12.3 ms per loop (mean ± std. dev. of 7 runs, 1 loop each)\n"
     ]
    }
   ],
   "execution_count": 22
  },
  {
   "cell_type": "markdown",
   "id": "755403c44fd3251b",
   "metadata": {},
   "source": [
    "## MCMC"
   ]
  },
  {
   "cell_type": "code",
   "id": "124c4d9025a72379",
   "metadata": {},
   "source": [
    "run_mcmc(\n",
    "    true_params=[LN_A, LN_F, LN_FDOT],\n",
    "    gap_ranges=gap_ranges,\n",
    "    gap_type=\"rectangular_window\",\n",
    "    Nf=64,\n",
    "    tmax=tmax,\n",
    "    dt=dt,\n",
    "    alpha=0.0,\n",
    "    highpass_fmin=None,\n",
    "    frange=[0.005, 0.028],\n",
    "    noise_realisation=False,\n",
    "    outdir=f\"{outdir}/mcmc_no_noise\",\n",
    "    noise_curve='TDI1',\n",
    "    burnin=150,\n",
    "    n_iter=250\n",
    ")"
   ],
   "outputs": [],
   "execution_count": null
  },
  {
   "metadata": {},
   "cell_type": "markdown",
   "source": "![outdir_1year/mcmc_no_noise/summary.png](outdir_1year/mcmc_no_noise/summary.png)",
   "id": "7821604cf1a72bdd"
  },
  {
   "metadata": {},
   "cell_type": "code",
   "source": [
    "# Plotting both modes\n",
    "\n",
    "lna = -48.395\n",
    "lnf = (-4.0 * 1e-6)-5.29831\n",
    "lnfdot = (-66.0 * 1e-6)-2.07232e1\n",
    "mode2_wdm = data.htemplate(lna,lnf,lnfdot)\n",
    "true_wdm = data.htemplate(LN_A,LN_F,LN_FDOT)\n",
    "\n",
    "fig, axes = plt.subplots(3, 1, figsize=(12, 4), sharex=True, sharey=True)\n",
    "true_wdm.plot(ax=axes[0], freq_range=[0.005, 0.028], label=\"True\")\n",
    "mode2_wdm.plot(ax=axes[1], freq_range=[0.005, 0.028], label=\"2ndary mode\")\n",
    "diffr = true_wdm - mode2_wdm\n",
    "diffr.plot(ax=axes[2], freq_range=[0.005, 0.028], label=\"Difference\")\n",
    "plt.subplots_adjust(hspace=0.0)\n",
    "plt.savefig(os.path.join(outdir, \"true_vs_2ndary_mode.png\"), bbox_inches=\"tight\")"
   ],
   "id": "b3b7314858073ff2",
   "outputs": [],
   "execution_count": null
  },
  {
   "metadata": {},
   "cell_type": "markdown",
   "source": "![outdir_1year/true_vs_2ndary_mode.png](outdir_1year/true_vs_2ndary_mode.png)",
   "id": "86d165c8c64cfe46"
  },
  {
   "cell_type": "code",
   "id": "92513350ff7a3245",
   "metadata": {},
   "source": [],
   "outputs": [],
   "execution_count": null
  }
 ],
 "metadata": {
  "jupytext": {
   "formats": "ipynb,py:percent"
  },
  "kernelspec": {
   "display_name": "Python 3",
   "language": "python",
   "name": "python3"
  },
  "language_info": {
   "codemirror_mode": {
    "name": "ipython",
    "version": 2
   },
   "file_extension": ".py",
   "mimetype": "text/x-python",
   "name": "python",
   "nbconvert_exporter": "python",
   "pygments_lexer": "ipython2",
   "version": "2.7.6"
  }
 },
 "nbformat": 4,
 "nbformat_minor": 5
}
