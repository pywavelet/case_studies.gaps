{
 "cells": [
  {
   "metadata": {},
   "cell_type": "markdown",
   "source": [
    "# Test with LISA response\n",
    "\n",
    "## Frequency domain \n"
   ],
   "id": "d8aa9cad664838a5"
  },
  {
   "metadata": {},
   "cell_type": "code",
   "source": "",
   "id": "ef8651b427f906d0",
   "outputs": [],
   "execution_count": null
  },
  {
   "metadata": {},
   "cell_type": "code",
   "source": "",
   "id": "32bfe807ea95d9f3",
   "outputs": [],
   "execution_count": null
  },
  {
   "metadata": {},
   "cell_type": "code",
   "source": "",
   "id": "a47807c910a042f5",
   "outputs": [],
   "execution_count": null
  },
  {
   "metadata": {},
   "cell_type": "markdown",
   "source": "![](tdi_timedomain.png)",
   "id": "7e3d07985d54346"
  },
  {
   "metadata": {},
   "cell_type": "markdown",
   "source": "![](tdi_freqdomain.png)",
   "id": "d9950e0ed35d5e12"
  },
  {
   "metadata": {},
   "cell_type": "code",
   "source": "",
   "id": "c8a383e3b124562b",
   "outputs": [],
   "execution_count": null
  },
  {
   "metadata": {
    "ExecuteTime": {
     "end_time": "2025-03-10T02:12:56.070826Z",
     "start_time": "2025-03-10T02:12:55.730592Z"
    }
   },
   "cell_type": "code",
   "source": "",
   "id": "b89c625b58ddd8",
   "outputs": [],
   "execution_count": 42
  },
  {
   "metadata": {},
   "cell_type": "markdown",
   "source": "![](lnl_scan.png)",
   "id": "bb50f4bb55546ff2"
  },
  {
   "metadata": {},
   "cell_type": "markdown",
   "source": "## WDM domain",
   "id": "f160b16ddf86891a"
  },
  {
   "metadata": {},
   "cell_type": "code",
   "outputs": [],
   "execution_count": null,
   "source": "",
   "id": "22ac023931f71982"
  },
  {
   "metadata": {},
   "cell_type": "code",
   "source": "",
   "id": "9ffd95683cd2485b",
   "outputs": [],
   "execution_count": null
  }
 ],
 "metadata": {
  "kernelspec": {
   "display_name": "Python 3",
   "language": "python",
   "name": "python3"
  },
  "language_info": {
   "codemirror_mode": {
    "name": "ipython",
    "version": 2
   },
   "file_extension": ".py",
   "mimetype": "text/x-python",
   "name": "python",
   "nbconvert_exporter": "python",
   "pygments_lexer": "ipython2",
   "version": "2.7.6"
  }
 },
 "nbformat": 4,
 "nbformat_minor": 5
}
